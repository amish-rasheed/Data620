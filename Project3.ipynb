{
 "cells": [
  {
   "cell_type": "markdown",
   "id": "f47ec3cb",
   "metadata": {},
   "source": [
    "# Project 3: Gender Name Classifier\n",
    "\n",
    "This notebook follows Exercise 6.10.2 from *Natural Language Processing with Python*. The goal is to build a gender classifier using NLTK's Names Corpus and incrementally improve it using various features and classifiers. I'll compare three different classifiers:\n",
    "\n",
    "1. Naive Bayes Classifier\n",
    "2. Decision Tree Classifier\n",
    "3. Random Forest Classifier\n",
    "\n",
    "Each classifier will be evaluated on the same dataset to compare their performance."
   ]
  },
  {
   "cell_type": "code",
   "execution_count": 23,
   "id": "b3e9b75b",
   "metadata": {},
   "outputs": [
    {
     "name": "stderr",
     "output_type": "stream",
     "text": [
      "[nltk_data] Downloading package names to\n",
      "[nltk_data]     /Users/amishrasheed/nltk_data...\n",
      "[nltk_data]   Package names is already up-to-date!\n"
     ]
    },
    {
     "data": {
      "text/plain": [
       "True"
      ]
     },
     "execution_count": 23,
     "metadata": {},
     "output_type": "execute_result"
    }
   ],
   "source": [
    "import random\n",
    "import nltk\n",
    "from nltk.corpus import names\n",
    "from nltk import NaiveBayesClassifier, classify\n",
    "from nltk.classify import DecisionTreeClassifier\n",
    "from sklearn.ensemble import RandomForestClassifier\n",
    "from sklearn.feature_extraction import DictVectorizer\n",
    "nltk.download('names')"
   ]
  },
  {
   "cell_type": "code",
   "execution_count": 24,
   "id": "d66343bd",
   "metadata": {},
   "outputs": [],
   "source": [
    "# Load names and label them\n",
    "labeled_names = [(name, 'male') for name in names.words('male.txt')] + \\\n",
    "                 [(name, 'female') for name in names.words('female.txt')]\n",
    "random.shuffle(labeled_names)\n",
    "\n",
    "# Split the data\n",
    "test_names = labeled_names[:500]\n",
    "devtest_names = labeled_names[500:1000]\n",
    "train_names = labeled_names[1000:]\n"
   ]
  },
  {
   "cell_type": "markdown",
   "id": "d0df9ec2",
   "metadata": {},
   "source": [
    "## 1. Naive Bayes Classifier\n",
    "\n",
    "The Naive Bayes classifier is a probabilistic classifier based on Bayes' theorem. It assumes that features are conditionally independent given the class label. Despite this 'naive' assumption, it often performs surprisingly well in practice, especially for text classification tasks. In our case, it uses the probability of certain features (like last letter) occurring in male vs. female names to make predictions.\n",
    "\n",
    "### Baseline Implementation\n",
    " Start with a simple feature set using just the last letter of the name."
   ]
  },
  {
   "cell_type": "code",
   "execution_count": 25,
   "id": "fd9e9be7",
   "metadata": {},
   "outputs": [
    {
     "name": "stdout",
     "output_type": "stream",
     "text": [
      "Accuracy on devtest set: 0.766\n"
     ]
    }
   ],
   "source": [
    "# Baseline feature extractor\n",
    "def gender_features(word):\n",
    "    return {'last_letter': word[-1]}\n",
    "\n",
    "# Feature sets\n",
    "train_set = [(gender_features(n), gender) for (n, gender) in train_names]\n",
    "devtest_set = [(gender_features(n), gender) for (n, gender) in devtest_names]\n",
    "test_set = [(gender_features(n), gender) for (n, gender) in test_names]\n",
    "\n",
    "# Train and evaluate\n",
    "classifier = NaiveBayesClassifier.train(train_set)\n",
    "print(\"Accuracy on devtest set:\", classify.accuracy(classifier, devtest_set))"
   ]
  },
  {
   "cell_type": "markdown",
   "id": "034e6d24",
   "metadata": {},
   "source": [
    "### Feature Improvement\n",
    "Enhance the feature set by including more characteristics of the names:\n",
    "- Last letter\n",
    "- Last two letters\n",
    "- First letter\n",
    "- Name length\n",
    "- Vowel count"
   ]
  },
  {
   "cell_type": "code",
   "execution_count": 26,
   "id": "e82ce69f",
   "metadata": {},
   "outputs": [
    {
     "name": "stdout",
     "output_type": "stream",
     "text": [
      "Improved accuracy on devtest set: 0.782\n",
      "Most Informative Features\n",
      "                last_two = 'na'           female : male   =    156.1 : 1.0\n",
      "                last_two = 'la'           female : male   =     70.5 : 1.0\n",
      "                last_two = 'rt'             male : female =     47.9 : 1.0\n",
      "                last_two = 'ia'           female : male   =     35.2 : 1.0\n",
      "                last_two = 'ra'           female : male   =     35.0 : 1.0\n",
      "                last_two = 'sa'           female : male   =     34.1 : 1.0\n",
      "             last_letter = 'a'            female : male   =     33.3 : 1.0\n",
      "             last_letter = 'k'              male : female =     30.0 : 1.0\n",
      "                last_two = 'us'             male : female =     26.7 : 1.0\n",
      "                last_two = 'do'             male : female =     24.8 : 1.0\n"
     ]
    }
   ],
   "source": [
    "def gender_features2(name):\n",
    "    features = {}\n",
    "    features['last_letter'] = name[-1].lower()\n",
    "    features['last_two'] = name[-2:].lower()\n",
    "    features['first_letter'] = name[0].lower()\n",
    "    features['name_length'] = len(name)\n",
    "    features['vowel_count'] = sum(1 for c in name.lower() if c in 'aeiou')\n",
    "    return features\n",
    "\n",
    "train_set2 = [(gender_features2(n), gender) for (n, gender) in train_names]\n",
    "devtest_set2 = [(gender_features2(n), gender) for (n, gender) in devtest_names]\n",
    "test_set2 = [(gender_features2(n), gender) for (n, gender) in test_names]\n",
    "\n",
    "classifier2 = NaiveBayesClassifier.train(train_set2)\n",
    "print(\"Improved accuracy on devtest set:\", classify.accuracy(classifier2, devtest_set2))\n",
    "classifier2.show_most_informative_features(10)"
   ]
  },
  {
   "cell_type": "markdown",
   "id": "ff8353e0",
   "metadata": {},
   "source": [
    "### Further Feature Improvements\n",
    "Enhance the feature set further by adding:\n",
    "- Consonant patterns (common consonant combinations)\n",
    "- Syllable count estimation\n",
    "- Common name endings"
   ]
  },
  {
   "cell_type": "code",
   "execution_count": 27,
   "id": "d263bb9a",
   "metadata": {},
   "outputs": [
    {
     "name": "stdout",
     "output_type": "stream",
     "text": [
      "Accuracy with additional features on devtest set: 0.782\n",
      "Accuracy with additional features on test set: 0.774\n",
      "Most Informative Features\n",
      "                last_two = 'na'           female : male   =    156.1 : 1.0\n",
      "                last_two = 'la'           female : male   =     70.5 : 1.0\n",
      "                last_two = 'rt'             male : female =     47.9 : 1.0\n",
      "                last_two = 'ia'           female : male   =     35.2 : 1.0\n",
      "                last_two = 'ra'           female : male   =     35.0 : 1.0\n",
      "                last_two = 'sa'           female : male   =     34.1 : 1.0\n",
      "             last_letter = 'a'            female : male   =     33.3 : 1.0\n",
      "             last_letter = 'k'              male : female =     30.0 : 1.0\n",
      "                last_two = 'us'             male : female =     26.7 : 1.0\n",
      "                last_two = 'do'             male : female =     24.8 : 1.0\n"
     ]
    }
   ],
   "source": [
    "def count_syllables(name):\n",
    "    # Simple syllable counting based on vowels\n",
    "    name = name.lower()\n",
    "    count = 0\n",
    "    vowels = 'aeiouy'\n",
    "    name = name.rstrip(vowels)\n",
    "    for i in range(len(name)-1):\n",
    "        if name[i] in vowels and name[i+1] not in vowels:\n",
    "            count += 1\n",
    "    return count\n",
    "\n",
    "def gender_features3(name):\n",
    "    features = gender_features2(name)\n",
    "    name = name.lower()\n",
    "    \n",
    "    # Add consonant patterns\n",
    "    features['has_br'] = 'br' in name\n",
    "    features['has_ch'] = 'ch' in name\n",
    "    features['has_ph'] = 'ph' in name\n",
    "    features['has_sh'] = 'sh' in name\n",
    "    features['has_th'] = 'th' in name\n",
    "    \n",
    "    # Add syllable count\n",
    "    features['syllable_count'] = count_syllables(name)\n",
    "    \n",
    "    # Add common endings\n",
    "    features['ends_ie'] = name.endswith('ie')\n",
    "    features['ends_ey'] = name.endswith('ey')\n",
    "    features['ends_er'] = name.endswith('er')\n",
    "    features['ends_or'] = name.endswith('or')\n",
    "    \n",
    "    return features\n",
    "\n",
    "train_set3 = [(gender_features3(n), gender) for (n, gender) in train_names]\n",
    "devtest_set3 = [(gender_features3(n), gender) for (n, gender) in devtest_names]\n",
    "test_set3 = [(gender_features3(n), gender) for (n, gender) in test_names]\n",
    "\n",
    "classifier3 = NaiveBayesClassifier.train(train_set3)\n",
    "print(\"Accuracy with additional features on devtest set:\", classify.accuracy(classifier3, devtest_set3))\n",
    "print(\"Accuracy with additional features on test set:\", classify.accuracy(classifier3, test_set3))\n",
    "classifier3.show_most_informative_features(10)"
   ]
  },
  {
   "cell_type": "markdown",
   "id": "a3c21580",
   "metadata": {},
   "source": [
    "## 2. Decision Tree Classifier\n",
    "\n",
    "The Decision Tree classifier creates a tree-like model of decisions based on feature values. Each internal node represents a feature, each branch represents a decision rule, and each leaf node represents an outcome (male or female in our case). This classifier is particularly good at capturing non-linear relationships in the data and is easily interpretable. It works by recursively splitting the data based on feature values that best separate the classes."
   ]
  },
  {
   "cell_type": "code",
   "execution_count": 28,
   "id": "6b8055dd",
   "metadata": {},
   "outputs": [
    {
     "name": "stdout",
     "output_type": "stream",
     "text": [
      "Decision Tree accuracy on devtest set: 0.788\n",
      "Decision Tree accuracy on test set: 0.75\n"
     ]
    }
   ],
   "source": [
    "# Train Decision Tree Classifier\n",
    "dt_classifier = DecisionTreeClassifier.train(train_set2)\n",
    "print(\"Decision Tree accuracy on devtest set:\", classify.accuracy(dt_classifier, devtest_set2))\n",
    "print(\"Decision Tree accuracy on test set:\", classify.accuracy(dt_classifier, test_set2))"
   ]
  },
  {
   "cell_type": "markdown",
   "id": "6c331c6b",
   "metadata": {},
   "source": [
    "## 3. Random Forest Classifier\n",
    "\n",
    "The Random Forest classifier is an ensemble method that builds multiple decision trees and combines their predictions. Each tree is trained on a random subset of the data and features, which helps prevent overfitting. The final prediction is made by majority voting among all trees. This approach often provides better generalization than individual decision trees and is less prone to overfitting."
   ]
  },
  {
   "cell_type": "code",
   "execution_count": 29,
   "id": "24c16543",
   "metadata": {},
   "outputs": [
    {
     "name": "stdout",
     "output_type": "stream",
     "text": [
      "Final Naive Bayes accuracy on test set: 0.772\n",
      "Final Decision Tree accuracy on test set: 0.75\n",
      "Final Random Forest accuracy on test set: 0.766\n"
     ]
    }
   ],
   "source": [
    "# Convert feature dictionaries to feature vectors\n",
    "vectorizer = DictVectorizer()\n",
    "X_train = vectorizer.fit_transform([f for f, _ in train_set2])\n",
    "X_test = vectorizer.transform([f for f, _ in test_set2])\n",
    "y_train = [label for _, label in train_set2]\n",
    "y_test = [label for _, label in test_set2]\n",
    "\n",
    "# Train and evaluate Random Forest\n",
    "rf_classifier = RandomForestClassifier(n_estimators=100, random_state=42)\n",
    "rf_classifier.fit(X_train, y_train)\n",
    "rf_accuracy = rf_classifier.score(X_test, y_test)\n",
    "\n",
    "print(\"Final Naive Bayes accuracy on test set:\", classify.accuracy(classifier2, test_set2))\n",
    "print(\"Final Decision Tree accuracy on test set:\", classify.accuracy(dt_classifier, test_set2))\n",
    "print(\"Final Random Forest accuracy on test set:\", rf_accuracy)"
   ]
  },
  {
   "cell_type": "code",
   "execution_count": null,
   "id": "b17a76b5",
   "metadata": {},
   "outputs": [
    {
     "data": {
      "image/png": "[encoded data removed]",
      "text/plain": [
       "<Figure size 1000x600 with 1 Axes>"
      ]
     },
     "metadata": {},
     "output_type": "display_data"
    }
   ],
   "source": [
    "# Visualize Final Accuracies\n",
    "import matplotlib.pyplot as plt\n",
    "\n",
    "classifiers = ['Naive Bayes', 'Decision Tree', 'Random Forest']\n",
    "accuracies = [0.774, 0.75, 0.766]\n",
    "\n",
    "plt.figure(figsize=(10, 6))\n",
    "bars = plt.bar(classifiers, accuracies, color=['#2ecc71', '#3498db', '#e74c3c'])\n",
    "\n",
    "plt.title('Final Accuracies of Different Classifiers on Test Set', pad=20)\n",
    "plt.ylabel('Accuracy')\n",
    "plt.ylim(0.7, 0.8)\n",
    "\n",
    "for bar in bars:\n",
    "    height = bar.get_height()\n",
    "    plt.text(bar.get_x() + bar.get_width()/2., height,\n",
    "             f'{height:.3f}',\n",
    "             ha='center', va='bottom')\n",
    "\n",
    "plt.grid(True, axis='y', linestyle='--', alpha=0.7)\n",
    "plt.tight_layout()\n",
    "\n",
    "plt.show()"
   ]
  },
  {
   "cell_type": "markdown",
   "id": "f9cf1605",
   "metadata": {},
   "source": [
    "## Conclusion\n",
    "\n",
    "I compared three different classifiers on the gender name classification task:\n",
    "\n",
    "1. **Naive Bayes**: A probabilistic classifier that performed well despite its simplifying assumptions\n",
    "2. **Decision Tree**: An interpretable classifier that captures non-linear relationships\n",
    "3. **Random Forest**: An ensemble method that combines multiple decision trees\n",
    "\n",
    "Key observations:\n",
    "- The Naive Bayes classifier achieved the highest accuracy (0.774) on the test set with the most sophisticated feature set\n",
    "- The Decision Tree classifier achieved an accuracy of 0.788 on dev-test and 0.75 on test set\n",
    "- The Random Forest classifier achieved an accuracy of 0.766 on the test set\n",
    "- The baseline Naive Bayes classifier achieved 0.766 accuracy on dev-test set\n",
    "- All classifiers showed similar performance between dev-test and test sets, indicating good generalization\n",
    "- The improved feature set helped all classifiers achieve better performance than the baseline\n",
    "\n",
    "Future improvements could include:\n",
    "- Adding more sophisticated features\n",
    "- Tuning hyperparameters for each classifier\n",
    "- Exploring other ensemble methods or deep learning approaches"
   ]
  }
 ],
 "metadata": {
  "kernelspec": {
   "display_name": "Python 3",
   "language": "python",
   "name": "python3"
  },
  "language_info": {
   "codemirror_mode": {
    "name": "ipython",
    "version": 3
   },
   "file_extension": ".py",
   "mimetype": "text/x-python",
   "name": "python",
   "nbconvert_exporter": "python",
   "pygments_lexer": "ipython3",
   "version": "3.9.12"
  }
 },
 "nbformat": 4,
 "nbformat_minor": 5
}
